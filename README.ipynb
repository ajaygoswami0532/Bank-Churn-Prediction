
Bank Customer Churn Analysis

Churner is generally defined as a customer who stops using a product or service for a given period of time.

This notebook is to do the data analysis and predictions on the churn.csv file.

The first step in the Data Preprocessing is to import the libraries, load the data and do some Exploratory Data Analysis (EDA).
STEP1 - Import all important Libraries and dataset
In [64]:

import pandas as pd    #for EDA
import numpy as np     #for numerical operation if required
from pySankey.sankey import sankey   #for sankey plot
import matplotlib.pyplot as plt      #for visualization

import seaborn as sns
%matplotlib inline
dataset=pd.read_csv(r'/home/ajaygoswami/Documents/Bobby/DATA SET/churn.csv')
#importing dataset and put it in a variable called dataset
dataset.head()


